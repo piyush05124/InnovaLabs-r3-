{
  "cells": [
    {
      "cell_type": "markdown",
      "metadata": {
        "id": "lfBtDGwZxKD6"
      },
      "source": [
        "**Importing required modules**"
      ]
    },
    {
      "cell_type": "code",
      "source": [
        "from google.colab import drive\n",
        "drive.mount('/content/drive')"
      ],
      "metadata": {
        "colab": {
          "base_uri": "https://localhost:8080/"
        },
        "id": "6IzT2bIQmTH-",
        "outputId": "c8d3e9d3-774a-4153-90e4-b9f25b11b86b"
      },
      "execution_count": null,
      "outputs": [
        {
          "output_type": "stream",
          "name": "stdout",
          "text": [
            "Drive already mounted at /content/drive; to attempt to forcibly remount, call drive.mount(\"/content/drive\", force_remount=True).\n"
          ]
        }
      ]
    },
    {
      "cell_type": "code",
      "execution_count": null,
      "metadata": {
        "id": "-75F6W35wWI_"
      },
      "outputs": [],
      "source": [
        "import tensorflow as tf\n",
        "\n",
        "from matplotlib import pyplot as plt\n",
        "# from sklearn.feature_selection import *\n",
        "import pandas as pd\n",
        "import numpy as np"
      ]
    },
    {
      "cell_type": "markdown",
      "metadata": {
        "id": "5Ao0lD8exRqS"
      },
      "source": [
        "**Load dataset**"
      ]
    },
    {
      "cell_type": "markdown",
      "metadata": {
        "id": "F8ItMwsaHjgt"
      },
      "source": [
        "\n",
        "\n",
        "**Email.csv Description**:\n",
        "\n",
        "\n",
        "\n",
        "Content:- The dataset contains email received. The dataset contains two columns Text and Spam.\n",
        "\n",
        "Text :- Text / Email received.\n",
        "\n",
        "Spam:- Whether the email received is spam or not\n",
        "\n",
        "Class 0: NOT SPAM\n",
        "\n",
        "Class 1: SPAM\n",
        "\n",
        "\n"
      ]
    },
    {
      "cell_type": "code",
      "execution_count": null,
      "metadata": {
        "id": "Kzv6KDn2xeGR"
      },
      "outputs": [],
      "source": [
        "dataset_1_path = '/content/drive/MyDrive/Email_spam_classifier_datasets/emails.csv'\n",
        "dataset_2_path = '/content/drive/MyDrive/Email_spam_classifier_datasets/spam.csv'\n",
        "dataset_1 =  pd.read_csv(dataset_1_path,index_col=None)\n",
        "dataset_2 =  pd.read_csv(dataset_2_path,index_col=None)\n",
        "email_csv_df = dataset_1.copy()\n",
        "spam_csv_df = dataset_2.copy()"
      ]
    },
    {
      "cell_type": "markdown",
      "metadata": {
        "id": "dzVlSyAXxclI"
      },
      "source": [
        "## EDA (Exploratory Data Analysis)"
      ]
    },
    {
      "cell_type": "markdown",
      "metadata": {
        "id": "Mxs0gu8cmPC2"
      },
      "source": [
        "#### Email.csv"
      ]
    },
    {
      "cell_type": "code",
      "execution_count": null,
      "metadata": {
        "colab": {
          "base_uri": "https://localhost:8080/",
          "height": 423
        },
        "id": "t9J9bVk5wsC8",
        "outputId": "79466956-bd8d-4dfd-9385-bcfe3aa7b7db"
      },
      "outputs": [
        {
          "output_type": "execute_result",
          "data": {
            "text/plain": [
              "                                                   Text  Spam\n",
              "0     Subject: naturally irresistible your corporate...     1\n",
              "1     Subject: the stock trading gunslinger  fanny i...     1\n",
              "2     Subject: unbelievable new homes made easy  im ...     1\n",
              "3     Subject: 4 color printing special  request add...     1\n",
              "4     Subject: do not have money , get software cds ...     1\n",
              "...                                                 ...   ...\n",
              "5723  Subject: re : research and development charges...     0\n",
              "5724  Subject: re : receipts from visit  jim ,  than...     0\n",
              "5725  Subject: re : enron case study update  wow ! a...     0\n",
              "5726  Subject: re : interest  david ,  please , call...     0\n",
              "5727  Subject: news : aurora 5 . 2 update  aurora ve...     0\n",
              "\n",
              "[5728 rows x 2 columns]"
            ],
            "text/html": [
              "\n",
              "  <div id=\"df-aef431f3-1452-4a3d-9ad6-a184240bc0ff\" class=\"colab-df-container\">\n",
              "    <div>\n",
              "<style scoped>\n",
              "    .dataframe tbody tr th:only-of-type {\n",
              "        vertical-align: middle;\n",
              "    }\n",
              "\n",
              "    .dataframe tbody tr th {\n",
              "        vertical-align: top;\n",
              "    }\n",
              "\n",
              "    .dataframe thead th {\n",
              "        text-align: right;\n",
              "    }\n",
              "</style>\n",
              "<table border=\"1\" class=\"dataframe\">\n",
              "  <thead>\n",
              "    <tr style=\"text-align: right;\">\n",
              "      <th></th>\n",
              "      <th>Text</th>\n",
              "      <th>Spam</th>\n",
              "    </tr>\n",
              "  </thead>\n",
              "  <tbody>\n",
              "    <tr>\n",
              "      <th>0</th>\n",
              "      <td>Subject: naturally irresistible your corporate...</td>\n",
              "      <td>1</td>\n",
              "    </tr>\n",
              "    <tr>\n",
              "      <th>1</th>\n",
              "      <td>Subject: the stock trading gunslinger  fanny i...</td>\n",
              "      <td>1</td>\n",
              "    </tr>\n",
              "    <tr>\n",
              "      <th>2</th>\n",
              "      <td>Subject: unbelievable new homes made easy  im ...</td>\n",
              "      <td>1</td>\n",
              "    </tr>\n",
              "    <tr>\n",
              "      <th>3</th>\n",
              "      <td>Subject: 4 color printing special  request add...</td>\n",
              "      <td>1</td>\n",
              "    </tr>\n",
              "    <tr>\n",
              "      <th>4</th>\n",
              "      <td>Subject: do not have money , get software cds ...</td>\n",
              "      <td>1</td>\n",
              "    </tr>\n",
              "    <tr>\n",
              "      <th>...</th>\n",
              "      <td>...</td>\n",
              "      <td>...</td>\n",
              "    </tr>\n",
              "    <tr>\n",
              "      <th>5723</th>\n",
              "      <td>Subject: re : research and development charges...</td>\n",
              "      <td>0</td>\n",
              "    </tr>\n",
              "    <tr>\n",
              "      <th>5724</th>\n",
              "      <td>Subject: re : receipts from visit  jim ,  than...</td>\n",
              "      <td>0</td>\n",
              "    </tr>\n",
              "    <tr>\n",
              "      <th>5725</th>\n",
              "      <td>Subject: re : enron case study update  wow ! a...</td>\n",
              "      <td>0</td>\n",
              "    </tr>\n",
              "    <tr>\n",
              "      <th>5726</th>\n",
              "      <td>Subject: re : interest  david ,  please , call...</td>\n",
              "      <td>0</td>\n",
              "    </tr>\n",
              "    <tr>\n",
              "      <th>5727</th>\n",
              "      <td>Subject: news : aurora 5 . 2 update  aurora ve...</td>\n",
              "      <td>0</td>\n",
              "    </tr>\n",
              "  </tbody>\n",
              "</table>\n",
              "<p>5728 rows × 2 columns</p>\n",
              "</div>\n",
              "    <div class=\"colab-df-buttons\">\n",
              "\n",
              "  <div class=\"colab-df-container\">\n",
              "    <button class=\"colab-df-convert\" onclick=\"convertToInteractive('df-aef431f3-1452-4a3d-9ad6-a184240bc0ff')\"\n",
              "            title=\"Convert this dataframe to an interactive table.\"\n",
              "            style=\"display:none;\">\n",
              "\n",
              "  <svg xmlns=\"http://www.w3.org/2000/svg\" height=\"24px\" viewBox=\"0 -960 960 960\">\n",
              "    <path d=\"M120-120v-720h720v720H120Zm60-500h600v-160H180v160Zm220 220h160v-160H400v160Zm0 220h160v-160H400v160ZM180-400h160v-160H180v160Zm440 0h160v-160H620v160ZM180-180h160v-160H180v160Zm440 0h160v-160H620v160Z\"/>\n",
              "  </svg>\n",
              "    </button>\n",
              "\n",
              "  <style>\n",
              "    .colab-df-container {\n",
              "      display:flex;\n",
              "      gap: 12px;\n",
              "    }\n",
              "\n",
              "    .colab-df-convert {\n",
              "      background-color: #E8F0FE;\n",
              "      border: none;\n",
              "      border-radius: 50%;\n",
              "      cursor: pointer;\n",
              "      display: none;\n",
              "      fill: #1967D2;\n",
              "      height: 32px;\n",
              "      padding: 0 0 0 0;\n",
              "      width: 32px;\n",
              "    }\n",
              "\n",
              "    .colab-df-convert:hover {\n",
              "      background-color: #E2EBFA;\n",
              "      box-shadow: 0px 1px 2px rgba(60, 64, 67, 0.3), 0px 1px 3px 1px rgba(60, 64, 67, 0.15);\n",
              "      fill: #174EA6;\n",
              "    }\n",
              "\n",
              "    .colab-df-buttons div {\n",
              "      margin-bottom: 4px;\n",
              "    }\n",
              "\n",
              "    [theme=dark] .colab-df-convert {\n",
              "      background-color: #3B4455;\n",
              "      fill: #D2E3FC;\n",
              "    }\n",
              "\n",
              "    [theme=dark] .colab-df-convert:hover {\n",
              "      background-color: #434B5C;\n",
              "      box-shadow: 0px 1px 3px 1px rgba(0, 0, 0, 0.15);\n",
              "      filter: drop-shadow(0px 1px 2px rgba(0, 0, 0, 0.3));\n",
              "      fill: #FFFFFF;\n",
              "    }\n",
              "  </style>\n",
              "\n",
              "    <script>\n",
              "      const buttonEl =\n",
              "        document.querySelector('#df-aef431f3-1452-4a3d-9ad6-a184240bc0ff button.colab-df-convert');\n",
              "      buttonEl.style.display =\n",
              "        google.colab.kernel.accessAllowed ? 'block' : 'none';\n",
              "\n",
              "      async function convertToInteractive(key) {\n",
              "        const element = document.querySelector('#df-aef431f3-1452-4a3d-9ad6-a184240bc0ff');\n",
              "        const dataTable =\n",
              "          await google.colab.kernel.invokeFunction('convertToInteractive',\n",
              "                                                    [key], {});\n",
              "        if (!dataTable) return;\n",
              "\n",
              "        const docLinkHtml = 'Like what you see? Visit the ' +\n",
              "          '<a target=\"_blank\" href=https://colab.research.google.com/notebooks/data_table.ipynb>data table notebook</a>'\n",
              "          + ' to learn more about interactive tables.';\n",
              "        element.innerHTML = '';\n",
              "        dataTable['output_type'] = 'display_data';\n",
              "        await google.colab.output.renderOutput(dataTable, element);\n",
              "        const docLink = document.createElement('div');\n",
              "        docLink.innerHTML = docLinkHtml;\n",
              "        element.appendChild(docLink);\n",
              "      }\n",
              "    </script>\n",
              "  </div>\n",
              "\n",
              "\n",
              "<div id=\"df-227adf00-9c64-4d98-9c01-6c5c9c74234e\">\n",
              "  <button class=\"colab-df-quickchart\" onclick=\"quickchart('df-227adf00-9c64-4d98-9c01-6c5c9c74234e')\"\n",
              "            title=\"Suggest charts\"\n",
              "            style=\"display:none;\">\n",
              "\n",
              "<svg xmlns=\"http://www.w3.org/2000/svg\" height=\"24px\"viewBox=\"0 0 24 24\"\n",
              "     width=\"24px\">\n",
              "    <g>\n",
              "        <path d=\"M19 3H5c-1.1 0-2 .9-2 2v14c0 1.1.9 2 2 2h14c1.1 0 2-.9 2-2V5c0-1.1-.9-2-2-2zM9 17H7v-7h2v7zm4 0h-2V7h2v10zm4 0h-2v-4h2v4z\"/>\n",
              "    </g>\n",
              "</svg>\n",
              "  </button>\n",
              "\n",
              "<style>\n",
              "  .colab-df-quickchart {\n",
              "      --bg-color: #E8F0FE;\n",
              "      --fill-color: #1967D2;\n",
              "      --hover-bg-color: #E2EBFA;\n",
              "      --hover-fill-color: #174EA6;\n",
              "      --disabled-fill-color: #AAA;\n",
              "      --disabled-bg-color: #DDD;\n",
              "  }\n",
              "\n",
              "  [theme=dark] .colab-df-quickchart {\n",
              "      --bg-color: #3B4455;\n",
              "      --fill-color: #D2E3FC;\n",
              "      --hover-bg-color: #434B5C;\n",
              "      --hover-fill-color: #FFFFFF;\n",
              "      --disabled-bg-color: #3B4455;\n",
              "      --disabled-fill-color: #666;\n",
              "  }\n",
              "\n",
              "  .colab-df-quickchart {\n",
              "    background-color: var(--bg-color);\n",
              "    border: none;\n",
              "    border-radius: 50%;\n",
              "    cursor: pointer;\n",
              "    display: none;\n",
              "    fill: var(--fill-color);\n",
              "    height: 32px;\n",
              "    padding: 0;\n",
              "    width: 32px;\n",
              "  }\n",
              "\n",
              "  .colab-df-quickchart:hover {\n",
              "    background-color: var(--hover-bg-color);\n",
              "    box-shadow: 0 1px 2px rgba(60, 64, 67, 0.3), 0 1px 3px 1px rgba(60, 64, 67, 0.15);\n",
              "    fill: var(--button-hover-fill-color);\n",
              "  }\n",
              "\n",
              "  .colab-df-quickchart-complete:disabled,\n",
              "  .colab-df-quickchart-complete:disabled:hover {\n",
              "    background-color: var(--disabled-bg-color);\n",
              "    fill: var(--disabled-fill-color);\n",
              "    box-shadow: none;\n",
              "  }\n",
              "\n",
              "  .colab-df-spinner {\n",
              "    border: 2px solid var(--fill-color);\n",
              "    border-color: transparent;\n",
              "    border-bottom-color: var(--fill-color);\n",
              "    animation:\n",
              "      spin 1s steps(1) infinite;\n",
              "  }\n",
              "\n",
              "  @keyframes spin {\n",
              "    0% {\n",
              "      border-color: transparent;\n",
              "      border-bottom-color: var(--fill-color);\n",
              "      border-left-color: var(--fill-color);\n",
              "    }\n",
              "    20% {\n",
              "      border-color: transparent;\n",
              "      border-left-color: var(--fill-color);\n",
              "      border-top-color: var(--fill-color);\n",
              "    }\n",
              "    30% {\n",
              "      border-color: transparent;\n",
              "      border-left-color: var(--fill-color);\n",
              "      border-top-color: var(--fill-color);\n",
              "      border-right-color: var(--fill-color);\n",
              "    }\n",
              "    40% {\n",
              "      border-color: transparent;\n",
              "      border-right-color: var(--fill-color);\n",
              "      border-top-color: var(--fill-color);\n",
              "    }\n",
              "    60% {\n",
              "      border-color: transparent;\n",
              "      border-right-color: var(--fill-color);\n",
              "    }\n",
              "    80% {\n",
              "      border-color: transparent;\n",
              "      border-right-color: var(--fill-color);\n",
              "      border-bottom-color: var(--fill-color);\n",
              "    }\n",
              "    90% {\n",
              "      border-color: transparent;\n",
              "      border-bottom-color: var(--fill-color);\n",
              "    }\n",
              "  }\n",
              "</style>\n",
              "\n",
              "  <script>\n",
              "    async function quickchart(key) {\n",
              "      const quickchartButtonEl =\n",
              "        document.querySelector('#' + key + ' button');\n",
              "      quickchartButtonEl.disabled = true;  // To prevent multiple clicks.\n",
              "      quickchartButtonEl.classList.add('colab-df-spinner');\n",
              "      try {\n",
              "        const charts = await google.colab.kernel.invokeFunction(\n",
              "            'suggestCharts', [key], {});\n",
              "      } catch (error) {\n",
              "        console.error('Error during call to suggestCharts:', error);\n",
              "      }\n",
              "      quickchartButtonEl.classList.remove('colab-df-spinner');\n",
              "      quickchartButtonEl.classList.add('colab-df-quickchart-complete');\n",
              "    }\n",
              "    (() => {\n",
              "      let quickchartButtonEl =\n",
              "        document.querySelector('#df-227adf00-9c64-4d98-9c01-6c5c9c74234e button');\n",
              "      quickchartButtonEl.style.display =\n",
              "        google.colab.kernel.accessAllowed ? 'block' : 'none';\n",
              "    })();\n",
              "  </script>\n",
              "</div>\n",
              "    </div>\n",
              "  </div>\n"
            ]
          },
          "metadata": {},
          "execution_count": 4
        }
      ],
      "source": [
        "email_csv_df"
      ]
    },
    {
      "cell_type": "code",
      "execution_count": null,
      "metadata": {
        "colab": {
          "base_uri": "https://localhost:8080/",
          "height": 452
        },
        "id": "qCXL_diEMt9w",
        "outputId": "ee825d2b-b44c-43f8-c781-2662059f1d9f"
      },
      "outputs": [
        {
          "output_type": "display_data",
          "data": {
            "text/plain": [
              "<Figure size 640x480 with 1 Axes>"
            ],
            "image/png": "[encoded data removed]"
          },
          "metadata": {}
        }
      ],
      "source": [
        "\n",
        "email_csv_df['Spam'].plot(kind='hist',bins= 30, title='Spam')\n",
        "plt.gca().spines[['top', 'right',]].set_visible(True)"
      ]
    },
    {
      "cell_type": "code",
      "execution_count": null,
      "metadata": {
        "colab": {
          "base_uri": "https://localhost:8080/"
        },
        "id": "WNTmZxI3mPC5",
        "outputId": "4dc63999-c365-482f-d6c2-7da8a2976f39"
      },
      "outputs": [
        {
          "output_type": "execute_result",
          "data": {
            "text/plain": [
              "23.88268156424581"
            ]
          },
          "metadata": {},
          "execution_count": 6
        }
      ],
      "source": [
        "(email_csv_df[email_csv_df['Spam']==1].shape[0]/ email_csv_df.shape[0])*100"
      ]
    },
    {
      "cell_type": "markdown",
      "metadata": {
        "id": "wV3-dxhRmPC6"
      },
      "source": [
        "##### Spam.csv"
      ]
    },
    {
      "cell_type": "code",
      "execution_count": null,
      "metadata": {
        "colab": {
          "base_uri": "https://localhost:8080/"
        },
        "id": "CRrOc7iFM9SL",
        "outputId": "3b0a4a7a-3168-45d1-d1a6-82b341b2edb0"
      },
      "outputs": [
        {
          "output_type": "execute_result",
          "data": {
            "text/plain": [
              "array(['ham', 'spam'], dtype=object)"
            ]
          },
          "metadata": {},
          "execution_count": 7
        }
      ],
      "source": [
        "spam_csv_df.rename(columns=dict(zip([ 'Message','Category'],['Text', 'Spam'],)),inplace=True)\n",
        "spam_csv_df.Spam.unique()"
      ]
    },
    {
      "cell_type": "code",
      "execution_count": null,
      "metadata": {
        "id": "QGPCfW26mPC7"
      },
      "outputs": [],
      "source": [
        "spam_csv_df['Spam'] = spam_csv_df['Spam'].apply(lambda x: 0 if str(x).lower()== 'ham' else 1)"
      ]
    },
    {
      "cell_type": "code",
      "execution_count": null,
      "metadata": {
        "colab": {
          "base_uri": "https://localhost:8080/",
          "height": 452
        },
        "outputId": "4841f219-b2b1-4ca5-fee6-369a038eb1df",
        "id": "wtejQR-UmPC8"
      },
      "outputs": [
        {
          "output_type": "display_data",
          "data": {
            "text/plain": [
              "<Figure size 640x480 with 1 Axes>"
            ],
            "image/png": "[encoded data removed]"
          },
          "metadata": {}
        }
      ],
      "source": [
        "spam_csv_df['Spam'].plot(kind='hist',bins= 20, title='Spam')\n",
        "plt.gca().spines[['top', 'right',]].set_visible(True)"
      ]
    },
    {
      "cell_type": "code",
      "execution_count": null,
      "metadata": {
        "colab": {
          "base_uri": "https://localhost:8080/"
        },
        "id": "euGG6xsHmPC8",
        "outputId": "87d65199-7cd5-461e-853d-b6030413877a"
      },
      "outputs": [
        {
          "output_type": "execute_result",
          "data": {
            "text/plain": [
              "13.406317300789663"
            ]
          },
          "metadata": {},
          "execution_count": 10
        }
      ],
      "source": [
        "(spam_csv_df[spam_csv_df['Spam']==1].shape[0]/ spam_csv_df.shape[0])*100"
      ]
    },
    {
      "cell_type": "code",
      "execution_count": null,
      "metadata": {
        "colab": {
          "base_uri": "https://localhost:8080/"
        },
        "id": "xXEgSXYJGegQ",
        "outputId": "6aaafa58-5c63-4f3c-bc0d-4186709c14a1"
      },
      "outputs": [
        {
          "output_type": "execute_result",
          "data": {
            "text/plain": [
              "array([0, 1])"
            ]
          },
          "metadata": {},
          "execution_count": 11
        }
      ],
      "source": [
        "spam_csv_df.columns\n",
        "spam_csv_df.Spam.unique()"
      ]
    },
    {
      "cell_type": "code",
      "execution_count": null,
      "metadata": {
        "id": "lJWaE2lNGeWa"
      },
      "outputs": [],
      "source": [
        "spam_csv_df = spam_csv_df[['Text', 'Spam']]\n",
        "only_spam_csv_df=spam_csv_df[spam_csv_df['Spam']==1]"
      ]
    },
    {
      "cell_type": "markdown",
      "source": [
        "Oversampled Data by concating 2 csv files since there is class imbalancemnt"
      ],
      "metadata": {
        "id": "f74ucLLLSuK9"
      }
    },
    {
      "cell_type": "code",
      "execution_count": null,
      "metadata": {
        "id": "03sZLwbnGeO-"
      },
      "outputs": [],
      "source": [
        "email_spam_df = pd.concat([email_csv_df,only_spam_csv_df],ignore_index = True)"
      ]
    },
    {
      "cell_type": "code",
      "execution_count": null,
      "metadata": {
        "colab": {
          "base_uri": "https://localhost:8080/"
        },
        "id": "njyvZswcKzP1",
        "outputId": "c72956cd-8262-4538-dc58-a70293d6ef69"
      },
      "outputs": [
        {
          "output_type": "stream",
          "name": "stdout",
          "text": [
            "(6475, 2)\n",
            "[1 0]\n"
          ]
        }
      ],
      "source": [
        "print(email_spam_df.shape)\n",
        "print(email_spam_df.Spam.unique())"
      ]
    },
    {
      "cell_type": "code",
      "execution_count": null,
      "metadata": {
        "colab": {
          "base_uri": "https://localhost:8080/",
          "height": 452
        },
        "id": "eCmtd6k5FJs3",
        "outputId": "8da61bd1-33d9-48f0-fd49-676100e6a303"
      },
      "outputs": [
        {
          "output_type": "display_data",
          "data": {
            "text/plain": [
              "<Figure size 640x480 with 1 Axes>"
            ],
            "image/png": "[encoded data removed]"
          },
          "metadata": {}
        }
      ],
      "source": [
        "from matplotlib import pyplot as plt\n",
        "email_spam_df['Spam'].plot(kind='hist', title='Spam')\n",
        "plt.gca().spines[['top', 'right',]].set_visible(True)"
      ]
    },
    {
      "cell_type": "code",
      "execution_count": null,
      "metadata": {
        "id": "tf9Cb7WJxXWC",
        "colab": {
          "base_uri": "https://localhost:8080/"
        },
        "outputId": "2b6e7646-13f5-42fe-9f23-4af9738cf603"
      },
      "outputs": [
        {
          "output_type": "execute_result",
          "data": {
            "text/plain": [
              "32.664092664092664"
            ]
          },
          "metadata": {},
          "execution_count": 16
        }
      ],
      "source": [
        "(email_spam_df[email_spam_df['Spam']==1].shape[0]/ email_spam_df.shape[0])*100"
      ]
    },
    {
      "cell_type": "code",
      "execution_count": null,
      "metadata": {
        "colab": {
          "base_uri": "https://localhost:8080/",
          "height": 423
        },
        "id": "pkLexywqmPDA",
        "outputId": "097bc785-8496-4dd7-883a-279013e74e8e"
      },
      "outputs": [
        {
          "output_type": "execute_result",
          "data": {
            "text/plain": [
              "                                                   Text  Spam\n",
              "0     Subject: naturally irresistible your corporate...     1\n",
              "1     Subject: the stock trading gunslinger  fanny i...     1\n",
              "2     Subject: unbelievable new homes made easy  im ...     1\n",
              "3     Subject: 4 color printing special  request add...     1\n",
              "4     Subject: do not have money , get software cds ...     1\n",
              "...                                                 ...   ...\n",
              "6470  Want explicit SEX in 30 secs? Ring 02073162414...     1\n",
              "6471  ASKED 3MOBILE IF 0870 CHATLINES INCLU IN FREE ...     1\n",
              "6472  Had your contract mobile 11 Mnths? Latest Moto...     1\n",
              "6473  REMINDER FROM O2: To get 2.50 pounds free call...     1\n",
              "6474  This is the 2nd time we have tried 2 contact u...     1\n",
              "\n",
              "[6475 rows x 2 columns]"
            ],
            "text/html": [
              "\n",
              "  <div id=\"df-3c22f2b2-66ed-4fd8-8b65-a856bcc9e0e9\" class=\"colab-df-container\">\n",
              "    <div>\n",
              "<style scoped>\n",
              "    .dataframe tbody tr th:only-of-type {\n",
              "        vertical-align: middle;\n",
              "    }\n",
              "\n",
              "    .dataframe tbody tr th {\n",
              "        vertical-align: top;\n",
              "    }\n",
              "\n",
              "    .dataframe thead th {\n",
              "        text-align: right;\n",
              "    }\n",
              "</style>\n",
              "<table border=\"1\" class=\"dataframe\">\n",
              "  <thead>\n",
              "    <tr style=\"text-align: right;\">\n",
              "      <th></th>\n",
              "      <th>Text</th>\n",
              "      <th>Spam</th>\n",
              "    </tr>\n",
              "  </thead>\n",
              "  <tbody>\n",
              "    <tr>\n",
              "      <th>0</th>\n",
              "      <td>Subject: naturally irresistible your corporate...</td>\n",
              "      <td>1</td>\n",
              "    </tr>\n",
              "    <tr>\n",
              "      <th>1</th>\n",
              "      <td>Subject: the stock trading gunslinger  fanny i...</td>\n",
              "      <td>1</td>\n",
              "    </tr>\n",
              "    <tr>\n",
              "      <th>2</th>\n",
              "      <td>Subject: unbelievable new homes made easy  im ...</td>\n",
              "      <td>1</td>\n",
              "    </tr>\n",
              "    <tr>\n",
              "      <th>3</th>\n",
              "      <td>Subject: 4 color printing special  request add...</td>\n",
              "      <td>1</td>\n",
              "    </tr>\n",
              "    <tr>\n",
              "      <th>4</th>\n",
              "      <td>Subject: do not have money , get software cds ...</td>\n",
              "      <td>1</td>\n",
              "    </tr>\n",
              "    <tr>\n",
              "      <th>...</th>\n",
              "      <td>...</td>\n",
              "      <td>...</td>\n",
              "    </tr>\n",
              "    <tr>\n",
              "      <th>6470</th>\n",
              "      <td>Want explicit SEX in 30 secs? Ring 02073162414...</td>\n",
              "      <td>1</td>\n",
              "    </tr>\n",
              "    <tr>\n",
              "      <th>6471</th>\n",
              "      <td>ASKED 3MOBILE IF 0870 CHATLINES INCLU IN FREE ...</td>\n",
              "      <td>1</td>\n",
              "    </tr>\n",
              "    <tr>\n",
              "      <th>6472</th>\n",
              "      <td>Had your contract mobile 11 Mnths? Latest Moto...</td>\n",
              "      <td>1</td>\n",
              "    </tr>\n",
              "    <tr>\n",
              "      <th>6473</th>\n",
              "      <td>REMINDER FROM O2: To get 2.50 pounds free call...</td>\n",
              "      <td>1</td>\n",
              "    </tr>\n",
              "    <tr>\n",
              "      <th>6474</th>\n",
              "      <td>This is the 2nd time we have tried 2 contact u...</td>\n",
              "      <td>1</td>\n",
              "    </tr>\n",
              "  </tbody>\n",
              "</table>\n",
              "<p>6475 rows × 2 columns</p>\n",
              "</div>\n",
              "    <div class=\"colab-df-buttons\">\n",
              "\n",
              "  <div class=\"colab-df-container\">\n",
              "    <button class=\"colab-df-convert\" onclick=\"convertToInteractive('df-3c22f2b2-66ed-4fd8-8b65-a856bcc9e0e9')\"\n",
              "            title=\"Convert this dataframe to an interactive table.\"\n",
              "            style=\"display:none;\">\n",
              "\n",
              "  <svg xmlns=\"http://www.w3.org/2000/svg\" height=\"24px\" viewBox=\"0 -960 960 960\">\n",
              "    <path d=\"M120-120v-720h720v720H120Zm60-500h600v-160H180v160Zm220 220h160v-160H400v160Zm0 220h160v-160H400v160ZM180-400h160v-160H180v160Zm440 0h160v-160H620v160ZM180-180h160v-160H180v160Zm440 0h160v-160H620v160Z\"/>\n",
              "  </svg>\n",
              "    </button>\n",
              "\n",
              "  <style>\n",
              "    .colab-df-container {\n",
              "      display:flex;\n",
              "      gap: 12px;\n",
              "    }\n",
              "\n",
              "    .colab-df-convert {\n",
              "      background-color: #E8F0FE;\n",
              "      border: none;\n",
              "      border-radius: 50%;\n",
              "      cursor: pointer;\n",
              "      display: none;\n",
              "      fill: #1967D2;\n",
              "      height: 32px;\n",
              "      padding: 0 0 0 0;\n",
              "      width: 32px;\n",
              "    }\n",
              "\n",
              "    .colab-df-convert:hover {\n",
              "      background-color: #E2EBFA;\n",
              "      box-shadow: 0px 1px 2px rgba(60, 64, 67, 0.3), 0px 1px 3px 1px rgba(60, 64, 67, 0.15);\n",
              "      fill: #174EA6;\n",
              "    }\n",
              "\n",
              "    .colab-df-buttons div {\n",
              "      margin-bottom: 4px;\n",
              "    }\n",
              "\n",
              "    [theme=dark] .colab-df-convert {\n",
              "      background-color: #3B4455;\n",
              "      fill: #D2E3FC;\n",
              "    }\n",
              "\n",
              "    [theme=dark] .colab-df-convert:hover {\n",
              "      background-color: #434B5C;\n",
              "      box-shadow: 0px 1px 3px 1px rgba(0, 0, 0, 0.15);\n",
              "      filter: drop-shadow(0px 1px 2px rgba(0, 0, 0, 0.3));\n",
              "      fill: #FFFFFF;\n",
              "    }\n",
              "  </style>\n",
              "\n",
              "    <script>\n",
              "      const buttonEl =\n",
              "        document.querySelector('#df-3c22f2b2-66ed-4fd8-8b65-a856bcc9e0e9 button.colab-df-convert');\n",
              "      buttonEl.style.display =\n",
              "        google.colab.kernel.accessAllowed ? 'block' : 'none';\n",
              "\n",
              "      async function convertToInteractive(key) {\n",
              "        const element = document.querySelector('#df-3c22f2b2-66ed-4fd8-8b65-a856bcc9e0e9');\n",
              "        const dataTable =\n",
              "          await google.colab.kernel.invokeFunction('convertToInteractive',\n",
              "                                                    [key], {});\n",
              "        if (!dataTable) return;\n",
              "\n",
              "        const docLinkHtml = 'Like what you see? Visit the ' +\n",
              "          '<a target=\"_blank\" href=https://colab.research.google.com/notebooks/data_table.ipynb>data table notebook</a>'\n",
              "          + ' to learn more about interactive tables.';\n",
              "        element.innerHTML = '';\n",
              "        dataTable['output_type'] = 'display_data';\n",
              "        await google.colab.output.renderOutput(dataTable, element);\n",
              "        const docLink = document.createElement('div');\n",
              "        docLink.innerHTML = docLinkHtml;\n",
              "        element.appendChild(docLink);\n",
              "      }\n",
              "    </script>\n",
              "  </div>\n",
              "\n",
              "\n",
              "<div id=\"df-04a9712e-b5b8-4d4a-81cf-86f937589190\">\n",
              "  <button class=\"colab-df-quickchart\" onclick=\"quickchart('df-04a9712e-b5b8-4d4a-81cf-86f937589190')\"\n",
              "            title=\"Suggest charts\"\n",
              "            style=\"display:none;\">\n",
              "\n",
              "<svg xmlns=\"http://www.w3.org/2000/svg\" height=\"24px\"viewBox=\"0 0 24 24\"\n",
              "     width=\"24px\">\n",
              "    <g>\n",
              "        <path d=\"M19 3H5c-1.1 0-2 .9-2 2v14c0 1.1.9 2 2 2h14c1.1 0 2-.9 2-2V5c0-1.1-.9-2-2-2zM9 17H7v-7h2v7zm4 0h-2V7h2v10zm4 0h-2v-4h2v4z\"/>\n",
              "    </g>\n",
              "</svg>\n",
              "  </button>\n",
              "\n",
              "<style>\n",
              "  .colab-df-quickchart {\n",
              "      --bg-color: #E8F0FE;\n",
              "      --fill-color: #1967D2;\n",
              "      --hover-bg-color: #E2EBFA;\n",
              "      --hover-fill-color: #174EA6;\n",
              "      --disabled-fill-color: #AAA;\n",
              "      --disabled-bg-color: #DDD;\n",
              "  }\n",
              "\n",
              "  [theme=dark] .colab-df-quickchart {\n",
              "      --bg-color: #3B4455;\n",
              "      --fill-color: #D2E3FC;\n",
              "      --hover-bg-color: #434B5C;\n",
              "      --hover-fill-color: #FFFFFF;\n",
              "      --disabled-bg-color: #3B4455;\n",
              "      --disabled-fill-color: #666;\n",
              "  }\n",
              "\n",
              "  .colab-df-quickchart {\n",
              "    background-color: var(--bg-color);\n",
              "    border: none;\n",
              "    border-radius: 50%;\n",
              "    cursor: pointer;\n",
              "    display: none;\n",
              "    fill: var(--fill-color);\n",
              "    height: 32px;\n",
              "    padding: 0;\n",
              "    width: 32px;\n",
              "  }\n",
              "\n",
              "  .colab-df-quickchart:hover {\n",
              "    background-color: var(--hover-bg-color);\n",
              "    box-shadow: 0 1px 2px rgba(60, 64, 67, 0.3), 0 1px 3px 1px rgba(60, 64, 67, 0.15);\n",
              "    fill: var(--button-hover-fill-color);\n",
              "  }\n",
              "\n",
              "  .colab-df-quickchart-complete:disabled,\n",
              "  .colab-df-quickchart-complete:disabled:hover {\n",
              "    background-color: var(--disabled-bg-color);\n",
              "    fill: var(--disabled-fill-color);\n",
              "    box-shadow: none;\n",
              "  }\n",
              "\n",
              "  .colab-df-spinner {\n",
              "    border: 2px solid var(--fill-color);\n",
              "    border-color: transparent;\n",
              "    border-bottom-color: var(--fill-color);\n",
              "    animation:\n",
              "      spin 1s steps(1) infinite;\n",
              "  }\n",
              "\n",
              "  @keyframes spin {\n",
              "    0% {\n",
              "      border-color: transparent;\n",
              "      border-bottom-color: var(--fill-color);\n",
              "      border-left-color: var(--fill-color);\n",
              "    }\n",
              "    20% {\n",
              "      border-color: transparent;\n",
              "      border-left-color: var(--fill-color);\n",
              "      border-top-color: var(--fill-color);\n",
              "    }\n",
              "    30% {\n",
              "      border-color: transparent;\n",
              "      border-left-color: var(--fill-color);\n",
              "      border-top-color: var(--fill-color);\n",
              "      border-right-color: var(--fill-color);\n",
              "    }\n",
              "    40% {\n",
              "      border-color: transparent;\n",
              "      border-right-color: var(--fill-color);\n",
              "      border-top-color: var(--fill-color);\n",
              "    }\n",
              "    60% {\n",
              "      border-color: transparent;\n",
              "      border-right-color: var(--fill-color);\n",
              "    }\n",
              "    80% {\n",
              "      border-color: transparent;\n",
              "      border-right-color: var(--fill-color);\n",
              "      border-bottom-color: var(--fill-color);\n",
              "    }\n",
              "    90% {\n",
              "      border-color: transparent;\n",
              "      border-bottom-color: var(--fill-color);\n",
              "    }\n",
              "  }\n",
              "</style>\n",
              "\n",
              "  <script>\n",
              "    async function quickchart(key) {\n",
              "      const quickchartButtonEl =\n",
              "        document.querySelector('#' + key + ' button');\n",
              "      quickchartButtonEl.disabled = true;  // To prevent multiple clicks.\n",
              "      quickchartButtonEl.classList.add('colab-df-spinner');\n",
              "      try {\n",
              "        const charts = await google.colab.kernel.invokeFunction(\n",
              "            'suggestCharts', [key], {});\n",
              "      } catch (error) {\n",
              "        console.error('Error during call to suggestCharts:', error);\n",
              "      }\n",
              "      quickchartButtonEl.classList.remove('colab-df-spinner');\n",
              "      quickchartButtonEl.classList.add('colab-df-quickchart-complete');\n",
              "    }\n",
              "    (() => {\n",
              "      let quickchartButtonEl =\n",
              "        document.querySelector('#df-04a9712e-b5b8-4d4a-81cf-86f937589190 button');\n",
              "      quickchartButtonEl.style.display =\n",
              "        google.colab.kernel.accessAllowed ? 'block' : 'none';\n",
              "    })();\n",
              "  </script>\n",
              "</div>\n",
              "    </div>\n",
              "  </div>\n"
            ]
          },
          "metadata": {},
          "execution_count": 17
        }
      ],
      "source": [
        "email_spam_df"
      ]
    },
    {
      "cell_type": "markdown",
      "source": [
        "## **Count Vectorizer**"
      ],
      "metadata": {
        "id": "Rhlb8fbFRtBX"
      }
    },
    {
      "cell_type": "code",
      "execution_count": null,
      "metadata": {
        "colab": {
          "base_uri": "https://localhost:8080/"
        },
        "id": "DVb8hOn8mPDA",
        "outputId": "ef6cb8d7-3cc5-4e72-fe6b-cae0d88804f2"
      },
      "outputs": [
        {
          "output_type": "execute_result",
          "data": {
            "text/plain": [
              "<6475x38661 sparse matrix of type '<class 'numpy.int64'>'\n",
              "\twith 724642 stored elements in Compressed Sparse Row format>"
            ]
          },
          "metadata": {},
          "execution_count": 19
        }
      ],
      "source": [
        "from sklearn.feature_extraction.text import CountVectorizer\n",
        "from sklearn.naive_bayes import MultinomialNB\n",
        "from sklearn.model_selection import train_test_split\n",
        "import pandas as pd\n",
        "\n",
        "# load data\n",
        "spam_data = email_spam_df#pd.read_csv('spam.csv')\n",
        "\n",
        "# create X and y\n",
        "X = spam_data['Text']\n",
        "y = spam_data['Spam']\n",
        "\n",
        "# initialize count vectorizer\n",
        "count_vectorizer = CountVectorizer()\n",
        "\n",
        "# fit transform the emails\n",
        "X_counts = count_vectorizer.fit_transform(X)\n",
        "X_counts"
      ]
    },
    {
      "cell_type": "code",
      "execution_count": null,
      "metadata": {
        "colab": {
          "base_uri": "https://localhost:8080/"
        },
        "id": "12Hjq7mPmPDA",
        "outputId": "248e2313-7612-4e64-fb05-7f054eeb7675"
      },
      "outputs": [
        {
          "output_type": "execute_result",
          "data": {
            "text/plain": [
              "0    888\n",
              "1    407\n",
              "Name: Spam, dtype: int64"
            ]
          },
          "metadata": {},
          "execution_count": 20
        }
      ],
      "source": [
        "# split data into training and testing sets\n",
        "X_train, X_test, y_train, y_test = train_test_split(X_counts, y, test_size=0.2, random_state=101)\n",
        "y_test.value_counts()"
      ]
    },
    {
      "cell_type": "code",
      "execution_count": null,
      "metadata": {
        "colab": {
          "base_uri": "https://localhost:8080/"
        },
        "id": "LL0asKpamPDB",
        "outputId": "eac9e6f2-57f5-4d79-e874-012dd3645cf0"
      },
      "outputs": [
        {
          "output_type": "stream",
          "name": "stdout",
          "text": [
            "WITH SPAM COUNT:  (407,)\n",
            "WITHOUT SPAM COUNT:  (888,)\n",
            "WITH SPAM %: 31.428571428571427 \n"
          ]
        }
      ],
      "source": [
        "print('WITH SPAM COUNT: ',y_test[y_test==1].shape)\n",
        "print('WITHOUT SPAM COUNT: ',y_test[y_test==0].shape)\n",
        "print(f'WITH SPAM %: {(y_test[y_test==1].shape[0]/y_test.shape[0])*100} ')"
      ]
    },
    {
      "cell_type": "code",
      "execution_count": null,
      "metadata": {
        "colab": {
          "base_uri": "https://localhost:8080/"
        },
        "id": "fRUFnFRnmPDB",
        "outputId": "8a646b53-7439-410c-8ed1-dd70ff94fdf7"
      },
      "outputs": [
        {
          "output_type": "execute_result",
          "data": {
            "text/plain": [
              "0    872\n",
              "1    423\n",
              "Name: Spam, dtype: int64"
            ]
          },
          "metadata": {},
          "execution_count": 22
        }
      ],
      "source": [
        "# split data into training and testing sets\n",
        "X_train, X_test, y_train, y_test = train_test_split(X_counts, y, test_size=0.2, random_state=101,stratify=y)\n",
        "y_test.value_counts()"
      ]
    },
    {
      "cell_type": "code",
      "execution_count": null,
      "metadata": {
        "colab": {
          "base_uri": "https://localhost:8080/"
        },
        "id": "pYJ6nisNmPDB",
        "outputId": "3b93608d-ae75-4a3d-f1be-534c1ef410ff"
      },
      "outputs": [
        {
          "output_type": "stream",
          "name": "stdout",
          "text": [
            "STRATIFIED SPAM COUNT:  (423,)\n",
            "STRATIFIED NON-SPAM COUNT:  (872,)\n",
            "STRATIFIED SPAM %: 32.664092664092664 \n"
          ]
        }
      ],
      "source": [
        "print('STRATIFIED SPAM COUNT: ',y_test[y_test==1].shape)\n",
        "print('STRATIFIED NON-SPAM COUNT: ',y_test[y_test==0].shape)\n",
        "print(f'STRATIFIED SPAM %: {(y_test[y_test==1].shape[0]/y_test.shape[0])*100} ')"
      ]
    },
    {
      "cell_type": "code",
      "execution_count": null,
      "metadata": {
        "colab": {
          "base_uri": "https://localhost:8080/"
        },
        "id": "KZM9FMl3mPDC",
        "outputId": "b708cab1-6005-4af3-a192-3301347a62b6"
      },
      "outputs": [
        {
          "output_type": "stream",
          "name": "stdout",
          "text": [
            "Accuracy: 0.9907335907335907\n",
            "MNb prediction [0 0 0 ... 0 1 0]\n"
          ]
        }
      ],
      "source": [
        "\n",
        "mnb = MultinomialNB()\n",
        "\n",
        "\n",
        "mnb.fit(X_train, y_train)\n",
        "\n",
        "\n",
        "pred = mnb.predict(X_test)\n",
        "\n",
        "# calculate the accuracy\n",
        "accuracy = (pred == y_test).mean()\n",
        "print('Accuracy:', accuracy)\n",
        "print('MNb prediction',pred)"
      ]
    },
    {
      "cell_type": "code",
      "execution_count": null,
      "metadata": {
        "id": "cTd1KUJ7mPDC"
      },
      "outputs": [],
      "source": [
        "from sklearn.metrics import confusion_matrix,classification_report\n",
        "import seaborn as sns"
      ]
    },
    {
      "cell_type": "code",
      "execution_count": null,
      "metadata": {
        "colab": {
          "base_uri": "https://localhost:8080/",
          "height": 447
        },
        "id": "ciH91MihmPDC",
        "outputId": "f13f2e76-ff2d-4b21-d78b-f8bfd0ac3c0f"
      },
      "outputs": [
        {
          "output_type": "execute_result",
          "data": {
            "text/plain": [
              "<Axes: >"
            ]
          },
          "metadata": {},
          "execution_count": 26
        },
        {
          "output_type": "display_data",
          "data": {
            "text/plain": [
              "<Figure size 640x480 with 2 Axes>"
            ],
            "image/png": "[encoded data removed]"
          },
          "metadata": {}
        }
      ],
      "source": [
        "sns.heatmap(confusion_matrix(y_test,pred),cmap='winter',annot=True)"
      ]
    },
    {
      "cell_type": "code",
      "execution_count": null,
      "metadata": {
        "colab": {
          "base_uri": "https://localhost:8080/"
        },
        "id": "arEmv5LVmPDD",
        "outputId": "26558aa2-a30d-439d-89f4-c2689e48fcad"
      },
      "outputs": [
        {
          "output_type": "stream",
          "name": "stdout",
          "text": [
            "              precision    recall  f1-score   support\n",
            "\n",
            "           0       1.00      0.99      0.99       872\n",
            "           1       0.97      1.00      0.99       423\n",
            "\n",
            "    accuracy                           0.99      1295\n",
            "   macro avg       0.99      0.99      0.99      1295\n",
            "weighted avg       0.99      0.99      0.99      1295\n",
            "\n"
          ]
        }
      ],
      "source": [
        "print(classification_report(y_test,pred))"
      ]
    },
    {
      "cell_type": "markdown",
      "source": [
        "***Live spam test***"
      ],
      "metadata": {
        "id": "BiKsrlkez2uh"
      }
    },
    {
      "cell_type": "markdown",
      "metadata": {
        "id": "6D2zEpkTmPDD"
      },
      "source": [
        "### TF-IDF"
      ]
    },
    {
      "cell_type": "code",
      "execution_count": null,
      "metadata": {
        "id": "BZECMDPEmPDD"
      },
      "outputs": [],
      "source": [
        "\n",
        "from sklearn.feature_extraction.text import TfidfVectorizer"
      ]
    },
    {
      "cell_type": "code",
      "execution_count": null,
      "metadata": {
        "id": "_gZb_lTmmPDE"
      },
      "outputs": [],
      "source": [
        "vectorizer = TfidfVectorizer(max_features=10000, stop_words='english')\n",
        "\n",
        "\n",
        "X_vec = vectorizer.fit_transform(X)\n",
        "\n",
        "# convert vector to numpy array\n",
        "X_vec = X_vec.toarray()"
      ]
    },
    {
      "cell_type": "code",
      "execution_count": null,
      "metadata": {
        "colab": {
          "base_uri": "https://localhost:8080/"
        },
        "id": "ss45osKXmPDE",
        "outputId": "b0fe5176-a34c-4b05-ce6c-052520cb7709"
      },
      "outputs": [
        {
          "output_type": "execute_result",
          "data": {
            "text/plain": [
              "array([[0., 0., 0., ..., 0., 0., 0.],\n",
              "       [0., 0., 0., ..., 0., 0., 0.],\n",
              "       [0., 0., 0., ..., 0., 0., 0.],\n",
              "       ...,\n",
              "       [0., 0., 0., ..., 0., 0., 0.],\n",
              "       [0., 0., 0., ..., 0., 0., 0.],\n",
              "       [0., 0., 0., ..., 0., 0., 0.]])"
            ]
          },
          "metadata": {},
          "execution_count": 30
        }
      ],
      "source": [
        "X_vec"
      ]
    },
    {
      "cell_type": "code",
      "execution_count": null,
      "metadata": {
        "colab": {
          "base_uri": "https://localhost:8080/"
        },
        "id": "WLgi5-9wmPDE",
        "outputId": "181589b6-de6e-4aef-f066-8e9a6488c6c4"
      },
      "outputs": [
        {
          "output_type": "execute_result",
          "data": {
            "text/plain": [
              "0    872\n",
              "1    423\n",
              "Name: Spam, dtype: int64"
            ]
          },
          "metadata": {},
          "execution_count": 31
        }
      ],
      "source": [
        "# split data into training and testing sets\n",
        "X_train, X_test, y_train, y_test = train_test_split(X_vec, y, test_size=0.2, random_state=101,stratify=y)\n",
        "y_test.value_counts()"
      ]
    },
    {
      "cell_type": "code",
      "execution_count": null,
      "metadata": {
        "colab": {
          "base_uri": "https://localhost:8080/"
        },
        "id": "aumCJpHHmPDF",
        "outputId": "e597bb36-81f1-4a41-dae6-ec9d675a7bbc"
      },
      "outputs": [
        {
          "output_type": "stream",
          "name": "stdout",
          "text": [
            "Accuracy: 0.9822393822393822\n",
            "pred2 [0 0 0 ... 0 1 0]\n"
          ]
        }
      ],
      "source": [
        "\n",
        "mnb2 = MultinomialNB()\n",
        "\n",
        "mnb2.fit(X_train, y_train)\n",
        "\n",
        "pred2 = mnb2.predict(X_test)\n",
        "\n",
        "# calculate the accuracy\n",
        "accuracy = (pred2 == y_test).mean()\n",
        "print('Accuracy:', accuracy)\n",
        "print('pred2',pred2)"
      ]
    },
    {
      "cell_type": "code",
      "execution_count": null,
      "metadata": {
        "colab": {
          "base_uri": "https://localhost:8080/",
          "height": 447
        },
        "id": "lOUFR5KsmPDF",
        "outputId": "7173f1a1-e4b2-4ee7-c95d-78b26b562695"
      },
      "outputs": [
        {
          "output_type": "execute_result",
          "data": {
            "text/plain": [
              "<Axes: >"
            ]
          },
          "metadata": {},
          "execution_count": 33
        },
        {
          "output_type": "display_data",
          "data": {
            "text/plain": [
              "<Figure size 640x480 with 2 Axes>"
            ],
            "image/png": "[encoded data removed]"
          },
          "metadata": {}
        }
      ],
      "source": [
        "sns.heatmap(confusion_matrix(y_test,pred2),cmap='winter',annot=True)"
      ]
    },
    {
      "cell_type": "code",
      "execution_count": null,
      "metadata": {
        "colab": {
          "base_uri": "https://localhost:8080/"
        },
        "id": "ubmtffubmPDN",
        "outputId": "d169180b-834d-496c-ba9a-9cb42fe0cd66"
      },
      "outputs": [
        {
          "output_type": "stream",
          "name": "stdout",
          "text": [
            "              precision    recall  f1-score   support\n",
            "\n",
            "           0       1.00      0.99      0.99       872\n",
            "           1       0.97      1.00      0.99       423\n",
            "\n",
            "    accuracy                           0.99      1295\n",
            "   macro avg       0.99      0.99      0.99      1295\n",
            "weighted avg       0.99      0.99      0.99      1295\n",
            "\n"
          ]
        }
      ],
      "source": [
        "print(classification_report(y_test,pred))"
      ]
    },
    {
      "cell_type": "markdown",
      "source": [
        "***Testing on live spam data ***"
      ],
      "metadata": {
        "id": "8j3I5ZnSqExw"
      }
    },
    {
      "cell_type": "markdown",
      "metadata": {
        "id": "P3CLVN6fmPDO"
      },
      "source": [
        "### Tensorflow"
      ]
    },
    {
      "cell_type": "code",
      "execution_count": null,
      "metadata": {
        "colab": {
          "base_uri": "https://localhost:8080/"
        },
        "id": "Wcg4uqxfmPDO",
        "outputId": "2d4be4f0-2a3a-474f-c22e-6ac2a351fb6b"
      },
      "outputs": [
        {
          "output_type": "stream",
          "name": "stdout",
          "text": [
            "Epoch 1/50\n",
            "132/132 [==============================] - 28s 151ms/step - loss: 0.4918 - accuracy: 0.8085 - auc: 0.8512 - val_loss: 0.3052 - val_accuracy: 0.8712 - val_auc: 0.9560\n",
            "Epoch 2/50\n",
            "132/132 [==============================] - 10s 76ms/step - loss: 0.1875 - accuracy: 0.9394 - auc: 0.9869 - val_loss: 0.1302 - val_accuracy: 0.9625 - val_auc: 0.9929\n",
            "Epoch 3/50\n",
            "132/132 [==============================] - 7s 57ms/step - loss: 0.0843 - accuracy: 0.9774 - auc: 0.9980 - val_loss: 0.0813 - val_accuracy: 0.9727 - val_auc: 0.9970\n",
            "Epoch 4/50\n",
            "132/132 [==============================] - 5s 39ms/step - loss: 0.0468 - accuracy: 0.9910 - auc: 0.9995 - val_loss: 0.0582 - val_accuracy: 0.9846 - val_auc: 0.9980\n",
            "Epoch 5/50\n",
            "132/132 [==============================] - 4s 27ms/step - loss: 0.0289 - accuracy: 0.9948 - auc: 0.9999 - val_loss: 0.0480 - val_accuracy: 0.9885 - val_auc: 0.9983\n",
            "Epoch 6/50\n",
            "132/132 [==============================] - 3s 20ms/step - loss: 0.0196 - accuracy: 0.9962 - auc: 1.0000 - val_loss: 0.0423 - val_accuracy: 0.9890 - val_auc: 0.9982\n",
            "Epoch 7/50\n",
            "132/132 [==============================] - 2s 12ms/step - loss: 0.0135 - accuracy: 0.9988 - auc: 1.0000 - val_loss: 0.0408 - val_accuracy: 0.9876 - val_auc: 0.9984\n",
            "Epoch 8/50\n",
            "132/132 [==============================] - 3s 20ms/step - loss: 0.0101 - accuracy: 0.9988 - auc: 1.0000 - val_loss: 0.0372 - val_accuracy: 0.9890 - val_auc: 0.9978\n",
            "Epoch 9/50\n",
            "132/132 [==============================] - 2s 14ms/step - loss: 0.0077 - accuracy: 0.9988 - auc: 1.0000 - val_loss: 0.0358 - val_accuracy: 0.9894 - val_auc: 0.9978\n",
            "Epoch 10/50\n",
            "132/132 [==============================] - 2s 16ms/step - loss: 0.0062 - accuracy: 0.9993 - auc: 1.0000 - val_loss: 0.0347 - val_accuracy: 0.9907 - val_auc: 0.9979\n",
            "Epoch 11/50\n",
            "132/132 [==============================] - 2s 15ms/step - loss: 0.0049 - accuracy: 0.9993 - auc: 1.0000 - val_loss: 0.0342 - val_accuracy: 0.9907 - val_auc: 0.9977\n",
            "Epoch 12/50\n",
            "132/132 [==============================] - 2s 13ms/step - loss: 0.0042 - accuracy: 0.9993 - auc: 1.0000 - val_loss: 0.0340 - val_accuracy: 0.9907 - val_auc: 0.9977\n",
            "Epoch 13/50\n",
            "132/132 [==============================] - 3s 20ms/step - loss: 0.0034 - accuracy: 0.9998 - auc: 1.0000 - val_loss: 0.0340 - val_accuracy: 0.9899 - val_auc: 0.9977\n",
            "Epoch 14/50\n",
            "132/132 [==============================] - 2s 15ms/step - loss: 0.0030 - accuracy: 0.9998 - auc: 1.0000 - val_loss: 0.0340 - val_accuracy: 0.9907 - val_auc: 0.9978\n",
            "Epoch 15/50\n",
            "132/132 [==============================] - 1s 11ms/step - loss: 0.0026 - accuracy: 0.9995 - auc: 1.0000 - val_loss: 0.0342 - val_accuracy: 0.9907 - val_auc: 0.9978\n",
            "Epoch 16/50\n",
            "132/132 [==============================] - 3s 20ms/step - loss: 0.0022 - accuracy: 1.0000 - auc: 1.0000 - val_loss: 0.0388 - val_accuracy: 0.9872 - val_auc: 0.9978\n",
            "Epoch 17/50\n",
            "132/132 [==============================] - 2s 13ms/step - loss: 0.0022 - accuracy: 0.9998 - auc: 1.0000 - val_loss: 0.0347 - val_accuracy: 0.9899 - val_auc: 0.9978\n",
            "Epoch 18/50\n",
            "132/132 [==============================] - 2s 16ms/step - loss: 0.0017 - accuracy: 0.9998 - auc: 1.0000 - val_loss: 0.0354 - val_accuracy: 0.9894 - val_auc: 0.9978\n",
            "Epoch 19/50\n",
            "132/132 [==============================] - 2s 12ms/step - loss: 0.0015 - accuracy: 1.0000 - auc: 1.0000 - val_loss: 0.0373 - val_accuracy: 0.9885 - val_auc: 0.9978\n",
            "Epoch 20/50\n",
            "132/132 [==============================] - 1s 11ms/step - loss: 0.0016 - accuracy: 0.9998 - auc: 1.0000 - val_loss: 0.0357 - val_accuracy: 0.9899 - val_auc: 0.9978\n",
            "Epoch 21/50\n",
            "132/132 [==============================] - 1s 11ms/step - loss: 0.0012 - accuracy: 0.9998 - auc: 1.0000 - val_loss: 0.0359 - val_accuracy: 0.9899 - val_auc: 0.9978\n",
            "Epoch 22/50\n",
            "132/132 [==============================] - 1s 10ms/step - loss: 0.0013 - accuracy: 0.9998 - auc: 1.0000 - val_loss: 0.0363 - val_accuracy: 0.9890 - val_auc: 0.9971\n",
            "Epoch 23/50\n",
            "132/132 [==============================] - 2s 13ms/step - loss: 9.7843e-04 - accuracy: 1.0000 - auc: 1.0000 - val_loss: 0.0372 - val_accuracy: 0.9890 - val_auc: 0.9972\n"
          ]
        }
      ],
      "source": [
        "import tensorflow as tf\n",
        "from keras.preprocessing.text import Tokenizer\n",
        "from keras.preprocessing.sequence import pad_sequences\n",
        "from keras.metrics import AUC\n",
        "import pandas as pd\n",
        "import numpy as np\n",
        "\n",
        "# load data\n",
        "spam_data = email_spam_df\n",
        "\n",
        "# create X and y\n",
        "X = spam_data['Text']\n",
        "y = spam_data['Spam']\n",
        "\n",
        "\n",
        "\n",
        "tokenizer = Tokenizer(num_words=5000, oov_token='<OOV>')\n",
        "tokenizer.fit_on_texts(X)\n",
        "\n",
        "\n",
        "X_tokens = tokenizer.texts_to_sequences(X)\n",
        "X_pad = pad_sequences(X_tokens, maxlen=100, padding='post')\n",
        "\n",
        "# split data into training and testing sets\n",
        "X_train, X_test, y_train, y_test = train_test_split(X_pad, y, test_size=0.35, random_state=42,stratify=y)\n",
        "\n",
        "# define model\n",
        "model = tf.keras.models.Sequential([\n",
        "    tf.keras.layers.Embedding(10000, 64, input_length=100),\n",
        "    tf.keras.layers.GlobalAveragePooling1D(),\n",
        "    tf.keras.layers.Dense(16, activation='relu'),\n",
        "    tf.keras.layers.Dense(1, activation='sigmoid')\n",
        "])\n",
        "\n",
        "# compile model\n",
        "model.compile(optimizer='adam', loss='binary_crossentropy', metrics=['accuracy',AUC()])\n",
        "\n",
        "# train model\n",
        "callback = tf.keras.callbacks.EarlyStopping(monitor='val_loss',patience=10)\n",
        "history = model.fit(X_train, y_train, epochs=50, validation_data=(X_test, y_test), callbacks=[callback])\n",
        "\n",
        "\n"
      ]
    },
    {
      "cell_type": "code",
      "source": [
        "# evaluate model\n",
        "test_output = model.evaluate(X_test, y_test)\n",
        "print('Test Accuracy:', test_output)"
      ],
      "metadata": {
        "colab": {
          "base_uri": "https://localhost:8080/"
        },
        "id": "RNlivxetrZW6",
        "outputId": "88f2882f-6867-4fe3-9d47-6a9282f53cc5"
      },
      "execution_count": null,
      "outputs": [
        {
          "output_type": "stream",
          "name": "stdout",
          "text": [
            "71/71 [==============================] - 0s 3ms/step - loss: 0.0372 - accuracy: 0.9890 - auc: 0.9972\n",
            "Test Accuracy: [0.0371781587600708, 0.9889721870422363, 0.9971760511398315]\n"
          ]
        }
      ]
    },
    {
      "cell_type": "code",
      "source": [
        "Ypred=model.predict(X_test)"
      ],
      "metadata": {
        "colab": {
          "base_uri": "https://localhost:8080/"
        },
        "id": "OIQLtEc0r51F",
        "outputId": "da64a378-8ca2-4f11-f6d3-9269d3e1e080"
      },
      "execution_count": null,
      "outputs": [
        {
          "output_type": "stream",
          "name": "stdout",
          "text": [
            "71/71 [==============================] - 0s 2ms/step\n"
          ]
        }
      ]
    },
    {
      "cell_type": "markdown",
      "source": [
        "Plot for Loss and validation loss VS accuracy and validtion accuracy"
      ],
      "metadata": {
        "id": "n8ZvJ04TQKwd"
      }
    },
    {
      "cell_type": "code",
      "execution_count": null,
      "metadata": {
        "colab": {
          "base_uri": "https://localhost:8080/"
        },
        "id": "0T1vKEQimPDP",
        "outputId": "b2bb4271-4954-4972-f7f7-49f058f650b4"
      },
      "outputs": [
        {
          "output_type": "stream",
          "name": "stderr",
          "text": [
            "WARNING:matplotlib.legend:No artists with labels found to put in legend.  Note that artists whose label start with an underscore are ignored when legend() is called with no argument.\n"
          ]
        },
        {
          "output_type": "execute_result",
          "data": {
            "text/plain": [
              "<matplotlib.legend.Legend at 0x7d9174577ee0>"
            ]
          },
          "metadata": {},
          "execution_count": 38
        },
        {
          "output_type": "display_data",
          "data": {
            "text/plain": [
              "<Figure size 640x480 with 1 Axes>"
            ],
            "image/png": "[encoded data removed]"
          },
          "metadata": {}
        }
      ],
      "source": [
        "plt.plot(history.history['loss'],marker='.')\n",
        "plt.plot(history.history['val_loss'],color = 'green',marker='.')\n",
        "\n",
        "plt.plot(history.history['accuracy'],marker='.')\n",
        "plt.plot(history.history['val_accuracy'],color = 'red',marker='.')\n",
        "plt.legend()"
      ]
    },
    {
      "cell_type": "markdown",
      "source": [
        "Plot between AUC and Validation AUC"
      ],
      "metadata": {
        "id": "f8N_CCZ7QYbj"
      }
    },
    {
      "cell_type": "code",
      "source": [
        "plt.plot(history.history['auc'],marker='X')\n",
        "plt.plot(history.history['val_auc'],color = 'orange',marker = '*')\n",
        "\n"
      ],
      "metadata": {
        "colab": {
          "base_uri": "https://localhost:8080/"
        },
        "id": "-rQ5Jy3tn3qo",
        "outputId": "b24ca87b-4a79-439d-d376-a7fd03091068"
      },
      "execution_count": null,
      "outputs": [
        {
          "output_type": "execute_result",
          "data": {
            "text/plain": [
              "[<matplotlib.lines.Line2D at 0x7d916abb24d0>]"
            ]
          },
          "metadata": {},
          "execution_count": 39
        },
        {
          "output_type": "display_data",
          "data": {
            "text/plain": [
              "<Figure size 640x480 with 1 Axes>"
            ],
            "image/png": "[encoded data removed]"
          },
          "metadata": {}
        }
      ]
    },
    {
      "cell_type": "code",
      "source": [
        "print(classification_report(y_test,Ypred.round()))"
      ],
      "metadata": {
        "colab": {
          "base_uri": "https://localhost:8080/"
        },
        "id": "zhSGPbSvShhG",
        "outputId": "fa09b18a-2637-446f-ce0f-3f1d229ba59f"
      },
      "execution_count": null,
      "outputs": [
        {
          "output_type": "stream",
          "name": "stdout",
          "text": [
            "              precision    recall  f1-score   support\n",
            "\n",
            "           0       0.99      0.99      0.99      1527\n",
            "           1       0.98      0.99      0.98       740\n",
            "\n",
            "    accuracy                           0.99      2267\n",
            "   macro avg       0.99      0.99      0.99      2267\n",
            "weighted avg       0.99      0.99      0.99      2267\n",
            "\n"
          ]
        }
      ]
    },
    {
      "cell_type": "code",
      "source": [
        "print(confusion_matrix(y_test,Ypred.round()))\n",
        "sns.heatmap(confusion_matrix(y_test,Ypred.round()),cmap = 'winter',annot = True)"
      ],
      "metadata": {
        "colab": {
          "base_uri": "https://localhost:8080/"
        },
        "id": "S47W2l19U56z",
        "outputId": "46b14d99-3b8a-414f-af85-3d6a23f9ce31"
      },
      "execution_count": null,
      "outputs": [
        {
          "output_type": "stream",
          "name": "stdout",
          "text": [
            "[[1510   17]\n",
            " [   8  732]]\n"
          ]
        },
        {
          "output_type": "execute_result",
          "data": {
            "text/plain": [
              "<Axes: >"
            ]
          },
          "metadata": {},
          "execution_count": 41
        },
        {
          "output_type": "display_data",
          "data": {
            "text/plain": [
              "<Figure size 640x480 with 2 Axes>"
            ],
            "image/png": "[encoded data removed]"
          },
          "metadata": {}
        }
      ]
    },
    {
      "cell_type": "markdown",
      "source": [
        "***Live spam test***"
      ],
      "metadata": {
        "id": "er8W5FXPzZ8C"
      }
    },
    {
      "cell_type": "code",
      "source": [
        "spam_text = [\"\"\"Urgent Hiring for Gen Ai- Developer at Infosys Limited,\n",
        "Recruiter from Infosys Limited is actively hiring for Gen Ai- Developer and your profile seems to be a good match.\n",
        "Role: Gen Ai- Developer\n",
        "Experience required: 1-2yrs\n",
        "Annual CTC: 2-7LPA\n",
        "Kindly share the below details and resume on the subsequent page to apply for this role.\"\"\"]"
      ],
      "metadata": {
        "id": "IdDR9TpjqD_G"
      },
      "execution_count": null,
      "outputs": []
    },
    {
      "cell_type": "code",
      "source": [
        "\n",
        "tokenizer.fit_on_texts(spam_text)\n",
        "\n",
        "\n",
        "spam_tokens = tokenizer.texts_to_sequences(spam_text)\n",
        "spam_pad = pad_sequences(spam_tokens, maxlen=100, padding='post')\n",
        "deep_pred = model.predict(spam_pad)"
      ],
      "metadata": {
        "colab": {
          "base_uri": "https://localhost:8080/"
        },
        "id": "EApPWA-5Vecv",
        "outputId": "c34621db-f2f7-4f55-fe2f-a1c53b40d3dc"
      },
      "execution_count": null,
      "outputs": [
        {
          "output_type": "stream",
          "name": "stdout",
          "text": [
            "1/1 [==============================] - 0s 18ms/step\n"
          ]
        }
      ]
    },
    {
      "cell_type": "code",
      "source": [
        "deep_pred.round()"
      ],
      "metadata": {
        "colab": {
          "base_uri": "https://localhost:8080/"
        },
        "id": "z4Hmr6PXsGAn",
        "outputId": "f8aeb0ae-0390-4797-dbc2-f8647e349c06"
      },
      "execution_count": null,
      "outputs": [
        {
          "output_type": "execute_result",
          "data": {
            "text/plain": [
              "array([[1.]], dtype=float32)"
            ]
          },
          "metadata": {},
          "execution_count": 43
        }
      ]
    },
    {
      "cell_type": "code",
      "source": [],
      "metadata": {
        "id": "Hg0R3FmessQM"
      },
      "execution_count": null,
      "outputs": []
    }
  ],
  "metadata": {
    "accelerator": "GPU",
    "colab": {
      "gpuType": "T4",
      "provenance": []
    },
    "kernelspec": {
      "display_name": "Python 3 (ipykernel)",
      "language": "python",
      "name": "python3"
    },
    "language_info": {
      "codemirror_mode": {
        "name": "ipython",
        "version": 3
      },
      "file_extension": ".py",
      "mimetype": "text/x-python",
      "name": "python",
      "nbconvert_exporter": "python",
      "pygments_lexer": "ipython3",
      "version": "3.9.10"
    }
  },
  "nbformat": 4,
  "nbformat_minor": 0
}